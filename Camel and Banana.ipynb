{
 "cells": [
  {
   "cell_type": "code",
   "execution_count": 2,
   "id": "d71be1fb",
   "metadata": {},
   "outputs": [
    {
     "name": "stdout",
     "output_type": "stream",
     "text": [
      "Enter total numbers of bananas 3000\n",
      "Enter maximum load capacity of camel 11000\n",
      "Enter distance to be covered 1000\n",
      "The maximum number of bananas that can be transferred to the destination using only camel is:- 2000\n"
     ]
    }
   ],
   "source": [
    "def camel_and_banana(total_bananas,load_capacity,distance):\n",
    "    lose=0\n",
    "    left_bananas=total_bananas\n",
    "    for i in range(distance):\n",
    "        while left_bananas>0:\n",
    "            left_bananas=left_bananas-load_capacity\n",
    "            if left_bananas==1:\n",
    "                lose=lose-1\n",
    "            lose=lose+2\n",
    "        lose=lose-1\n",
    "        left_bananas=total_bananas-lose\n",
    "        if left_bananas==0:\n",
    "            break\n",
    "    return left_bananas\n",
    "total_bananas=int(input(\"Enter total numbers of bananas \"))\n",
    "load_capacity=int(input(\"Enter maximum load capacity of camel \"))\n",
    "distance=int(input(\"Enter distance to be covered \"))\n",
    "bananas_left=camel_and_banana(total_bananas,load_capacity,distance)\n",
    "print(\"The maximum number of bananas that can be transferred to the destination using only camel is:-\",bananas_left)"
   ]
  },
  {
   "cell_type": "code",
   "execution_count": null,
   "id": "7f0e4f1e",
   "metadata": {},
   "outputs": [],
   "source": []
  }
 ],
 "metadata": {
  "kernelspec": {
   "display_name": "Python 3 (ipykernel)",
   "language": "python",
   "name": "python3"
  },
  "language_info": {
   "codemirror_mode": {
    "name": "ipython",
    "version": 3
   },
   "file_extension": ".py",
   "mimetype": "text/x-python",
   "name": "python",
   "nbconvert_exporter": "python",
   "pygments_lexer": "ipython3",
   "version": "3.9.7"
  }
 },
 "nbformat": 4,
 "nbformat_minor": 5
}
